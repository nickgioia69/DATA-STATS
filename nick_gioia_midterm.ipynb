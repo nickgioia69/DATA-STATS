{
  "nbformat": 4,
  "nbformat_minor": 0,
  "metadata": {
    "colab": {
      "provenance": [],
      "authorship_tag": "ABX9TyPfsIhllanbQxWIT7HUQ8VM",
      "include_colab_link": true
    },
    "kernelspec": {
      "name": "python3",
      "display_name": "Python 3"
    },
    "language_info": {
      "name": "python"
    }
  },
  "cells": [
    {
      "cell_type": "markdown",
      "metadata": {
        "id": "view-in-github",
        "colab_type": "text"
      },
      "source": [
        "<a href=\"https://colab.research.google.com/github/nickgioia69/DATA-STATS/blob/main/nick_gioia_midterm.ipynb\" target=\"_parent\"><img src=\"https://colab.research.google.com/assets/colab-badge.svg\" alt=\"Open In Colab\"/></a>"
      ]
    },
    {
      "cell_type": "code",
      "execution_count": null,
      "metadata": {
        "id": "7g_ieA1vSb5W"
      },
      "outputs": [],
      "source": [
        "import numpy as np # numpy is a directory with a set of tools\n",
        "import matplotlib.pyplot as plt # matplotlib is also a directory with a set of tools"
      ]
    },
    {
      "cell_type": "code",
      "source": [
        "X = np.array([12,9,20,7,2]) # this is an array of numbers for the Diameters\n",
        "Y = np.array([38,28,63,22,6]) # this is an array of numbers for the Circumferences"
      ],
      "metadata": {
        "id": "ZpIcyyWoSjAa"
      },
      "execution_count": null,
      "outputs": []
    },
    {
      "cell_type": "code",
      "source": [
        "plt.plot(X,Y,'g.') # this plots of a graph of x vs y using green dots \n",
        "plt.title('Graph of Circle Diameter vs Circumference') # this is used to title the graph\n",
        "plt.xlabel('Diameters') # this is used to label the x axis\n",
        "plt.ylabel('Circumferences') #this is used to label the y axis\n",
        "plt.plot(X,Y,'r') # this is used to plot the graph "
      ],
      "metadata": {
        "colab": {
          "base_uri": "https://localhost:8080/",
          "height": 312
        },
        "id": "XcxW4Yl6Si9x",
        "outputId": "506e820b-b57d-4698-d02e-1feb07f7539a"
      },
      "execution_count": null,
      "outputs": [
        {
          "output_type": "execute_result",
          "data": {
            "text/plain": [
              "[<matplotlib.lines.Line2D at 0x7f1929d80d50>]"
            ]
          },
          "metadata": {},
          "execution_count": 31
        },
        {
          "output_type": "display_data",
          "data": {
            "text/plain": [
              "<Figure size 432x288 with 1 Axes>"
            ],
            "image/png": "[encoded data removed]"
          },
          "metadata": {
            "needs_background": "light"
          }
        }
      ]
    },
    {
      "cell_type": "code",
      "source": [
        "m_guess = 0 # this is the initial guess for m\n",
        "b_guess = 0 # this is the initial guess for b"
      ],
      "metadata": {
        "id": "KGBP_UV1Si5H"
      },
      "execution_count": null,
      "outputs": []
    },
    {
      "cell_type": "code",
      "source": [
        "m_guess * X + b_guess # here we are integrating the guesses into the general equation of a line"
      ],
      "metadata": {
        "colab": {
          "base_uri": "https://localhost:8080/"
        },
        "id": "5bm_Ph_qSi3F",
        "outputId": "3aa88859-f1c6-405f-cea0-cd0cb8d32516"
      },
      "execution_count": null,
      "outputs": [
        {
          "output_type": "execute_result",
          "data": {
            "text/plain": [
              "array([0, 0, 0, 0, 0])"
            ]
          },
          "metadata": {},
          "execution_count": 33
        }
      ]
    },
    {
      "cell_type": "markdown",
      "source": [
        "y=mx+b"
      ],
      "metadata": {
        "id": "3sNiqs97TVje"
      }
    },
    {
      "cell_type": "code",
      "source": [
        "y_guess = m_guess * X + b_guess # here we are implementing the guesses using the general formula of y = m * x + b"
      ],
      "metadata": {
        "id": "Y4PEdRk2S22A"
      },
      "execution_count": null,
      "outputs": []
    },
    {
      "cell_type": "code",
      "source": [
        "y_guess # here we are outputting the variable 'y_guess'"
      ],
      "metadata": {
        "colab": {
          "base_uri": "https://localhost:8080/"
        },
        "id": "ZPbkA4NpS2zs",
        "outputId": "3085d03c-7dfe-4aad-a4d4-764a26349513"
      },
      "execution_count": null,
      "outputs": [
        {
          "output_type": "execute_result",
          "data": {
            "text/plain": [
              "array([0, 0, 0, 0, 0])"
            ]
          },
          "metadata": {},
          "execution_count": 35
        }
      ]
    },
    {
      "cell_type": "code",
      "source": [
        "y_guess - Y # here we are calculating the difference betweeen our known values and the guesses "
      ],
      "metadata": {
        "colab": {
          "base_uri": "https://localhost:8080/"
        },
        "id": "zgtiB5MNS2xf",
        "outputId": "c1806040-fd7d-4ae8-b617-335a7e56e808"
      },
      "execution_count": null,
      "outputs": [
        {
          "output_type": "execute_result",
          "data": {
            "text/plain": [
              "array([-38, -28, -63, -22,  -6])"
            ]
          },
          "metadata": {},
          "execution_count": 36
        }
      ]
    },
    {
      "cell_type": "code",
      "source": [
        "(y_guess - Y)**2 # here we are squaring the numbers to remove the negative signs (the square of a positive or negative number is positive)"
      ],
      "metadata": {
        "colab": {
          "base_uri": "https://localhost:8080/"
        },
        "id": "gZUwHsktS2va",
        "outputId": "42b0c1a9-f53e-4120-8af6-d2d8e57a4935"
      },
      "execution_count": null,
      "outputs": [
        {
          "output_type": "execute_result",
          "data": {
            "text/plain": [
              "array([1444,  784, 3969,  484,   36])"
            ]
          },
          "metadata": {},
          "execution_count": 37
        }
      ]
    },
    {
      "cell_type": "code",
      "source": [
        "np.sum((y_guess - Y)**2) # here we are seeing how far off from the actual points we are using the total area"
      ],
      "metadata": {
        "colab": {
          "base_uri": "https://localhost:8080/"
        },
        "id": "sJKDQk-jTpst",
        "outputId": "f671ffc1-d0cb-4e2b-e16d-164a873f18c0"
      },
      "execution_count": null,
      "outputs": [
        {
          "output_type": "execute_result",
          "data": {
            "text/plain": [
              "6717"
            ]
          },
          "metadata": {},
          "execution_count": 38
        }
      ]
    },
    {
      "cell_type": "code",
      "source": [
        "loss = np.sum((y_guess - Y)**2) # here we are storing the sum in the variable 'loss'"
      ],
      "metadata": {
        "id": "5QSN0dkFTpqV"
      },
      "execution_count": null,
      "outputs": []
    },
    {
      "cell_type": "code",
      "source": [
        "best_loss_so_far = 100000000000 # this is a big number to automatically overwrite the functions\n",
        "m_best = 0 # this variable keeps track of the best m value we have so far\n",
        "b_best = 0 # this variable keeps track of the best b value we have so far \n",
        "for m_guess in np.linspace(-100,100,100): # here we are getting 100 numbers from -100 to 100 for the m_guess\n",
        "    for b_guess in np.linspace(-100,100,100): # here we are getting 100 numbers from -100 to 100 for the b_guess\n",
        "          \n",
        "          y_guess = m_guess * X + b_guess # here we are getting the y guess based on our known variable 'X', the m_guess and the b_guess\n",
        "\n",
        "          loss =np.sum((y_guess - Y)**2) # we are calculating the loss and squaring it to remove the negative signs \n",
        "          \n",
        "          #print(m_guess,b_guess,loss) # here we are displaying the outputing of the best guesss for m, b and the loss\n",
        "\n",
        "          if loss < best_loss_so_far: # here we are checking which is the best respective results from our testing and reassigning the variables\n",
        "              m_best = m_guess # here we are reassigning the best value for m from its guess to its variable by equating it \n",
        "              b_best = b_guess # here we are reassigning the best value for b from its guess to its variable by equating it \n",
        "              best_loss_so_far = loss # here we are reassigning the best loss from the current loss to its variable by equating it \n",
        "\n",
        "print(\"Found better fit:\") # this is outside of the loop and allows us to print the words \"Found better fit:\"\n",
        "print(m_best,b_best,loss) # this is also outside of the loop and prints out the values stored in the variables 'm_best' , 'b_best' and 'loss'"
      ],
      "metadata": {
        "colab": {
          "base_uri": "https://localhost:8080/"
        },
        "id": "ilG2QfA6TpoA",
        "outputId": "d960b827-2ca2-4e3b-ec97-b3052a44ae43"
      },
      "execution_count": null,
      "outputs": [
        {
          "output_type": "stream",
          "name": "stdout",
          "text": [
            "Found better fit:\n",
            "3.030303030303031 1.0101010101010104 7378517.0\n"
          ]
        }
      ]
    },
    {
      "cell_type": "markdown",
      "source": [
        "The estimated relationship is:\n",
        "\n",
        "C=?D+?\n",
        "\n",
        "Answer:\n",
        "C = 3.030303030303031 D + 1.0101010101010104\n",
        "\n",
        "This can also be written as y = mx + b where m is the slope of the graph which is equal to 3.030303030303031 and where b is the intercept which is equal to 1.0101010101010104"
      ],
      "metadata": {
        "id": "r05rKL4PUG5k"
      }
    },
    {
      "cell_type": "markdown",
      "source": [
        "Question 1:\n",
        "What do  m  and  b  represent in these equations?\n",
        "\n",
        "Answer:\n",
        "m is the slope of the graph which is equal to 3.030303030303031 and where b is the intercept which is equal to 1.0101010101010104\n",
        "\n",
        "Question 2:\n",
        "Guess what the correct values m and b should be.\n",
        "\n",
        "Answer:\n",
        "m = 3.030303030303031\n",
        "b = 1.0101010101010104\n",
        "\n",
        "Question 3:\n",
        "Does it make sense to include b in the parameters?\n",
        "\n",
        "Answer:\n",
        "Yes, this is beacuse the y-intercept is not always zero and thus we need to factor in the variable in order to be closest to the accurate value in order to give us the best fit line. It basically has to do with the accuracy of the best fit line."
      ],
      "metadata": {
        "id": "BrqZpihZUZCP"
      }
    },
    {
      "cell_type": "markdown",
      "source": [
        "Bonus #2"
      ],
      "metadata": {
        "id": "H3a_PelHYHpl"
      }
    },
    {
      "cell_type": "code",
      "source": [
        "name = ['Errors']\n",
        "errors = np.random.randn(100000,)\n",
        "plt.title(\"Errors\")\n",
        "plt.hist(errors,10);"
      ],
      "metadata": {
        "colab": {
          "base_uri": "https://localhost:8080/",
          "height": 281
        },
        "id": "rXRx9ZaGTpZ9",
        "outputId": "18c72c28-5082-4b94-e102-d1d76c14e9a7"
      },
      "execution_count": null,
      "outputs": [
        {
          "output_type": "display_data",
          "data": {
            "text/plain": [
              "<Figure size 432x288 with 1 Axes>"
            ],
            "image/png": "[encoded data removed]"
          },
          "metadata": {
            "needs_background": "light"
          }
        }
      ]
    },
    {
      "cell_type": "markdown",
      "source": [
        "This is a bell curve histogram"
      ],
      "metadata": {
        "id": "uYMWtQVgYX0f"
      }
    },
    {
      "cell_type": "code",
      "source": [],
      "metadata": {
        "id": "hFTRQrBrTpVh"
      },
      "execution_count": null,
      "outputs": []
    },
    {
      "cell_type": "code",
      "source": [],
      "metadata": {
        "id": "Zi1MYnQlTpTP"
      },
      "execution_count": null,
      "outputs": []
    },
    {
      "cell_type": "code",
      "source": [],
      "metadata": {
        "id": "EP4HZjQuTpQ6"
      },
      "execution_count": null,
      "outputs": []
    },
    {
      "cell_type": "code",
      "source": [],
      "metadata": {
        "id": "gXrBANBhTpNp"
      },
      "execution_count": null,
      "outputs": []
    },
    {
      "cell_type": "code",
      "source": [],
      "metadata": {
        "id": "2vBDSv5RTpLV"
      },
      "execution_count": null,
      "outputs": []
    },
    {
      "cell_type": "code",
      "source": [],
      "metadata": {
        "id": "tXu2HZZmTpJB"
      },
      "execution_count": null,
      "outputs": []
    },
    {
      "cell_type": "code",
      "source": [],
      "metadata": {
        "id": "UVnN5-5QTpGz"
      },
      "execution_count": null,
      "outputs": []
    },
    {
      "cell_type": "code",
      "source": [],
      "metadata": {
        "id": "L6vnvCR5TpCe"
      },
      "execution_count": null,
      "outputs": []
    },
    {
      "cell_type": "code",
      "source": [],
      "metadata": {
        "id": "m-IPt5R0TpAF"
      },
      "execution_count": null,
      "outputs": []
    }
  ]
}